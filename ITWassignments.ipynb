{
  "cells": [
    {
      "cell_type": "markdown",
      "metadata": {
        "colab_type": "text",
        "id": "view-in-github"
      },
      "source": [
        "<a href=\"https://colab.research.google.com/github/omkar-2483/Python-codes/blob/main/ITWassignments.ipynb\" target=\"_parent\"><img src=\"https://colab.research.google.com/assets/colab-badge.svg\" alt=\"Open In Colab\"/></a>"
      ]
    },
    {
      "cell_type": "code",
      "execution_count": null,
      "metadata": {
        "id": "GoJ0Q6o87iYn"
      },
      "outputs": [],
      "source": [
        "import numpy as np\n",
        "n=int(input(\"Enter number of inputs:\"))\n",
        "nums=np.zeros(n)\n",
        "for i in range(n):\n",
        "    nums[i]=int(input(\"Enter a number: \"))\n",
        "sum1=np.zeros(n)\n",
        "sum2=np.zeros(n)\n",
        "\n",
        "i=0\n",
        "j=n-1\n",
        "\n",
        "for k in range(n):\n",
        "    sum1[k]=nums[i]+nums[j]\n",
        "    i+=1\n",
        "    j-=1\n",
        "\n",
        "k=0\n",
        "i=n-1\n",
        "j=0\n",
        "while(k<n):\n",
        "    sum2[k]=nums[i]+nums[j]\n",
        "    j+=1\n",
        "    i-=1\n",
        "    k+=1\n",
        "\n",
        "print('array of summation using for loop',sum1)\n",
        "print('array of summation using while loop',sum2)"
      ]
    },
    {
      "cell_type": "markdown",
      "metadata": {},
      "source": [
        "Rock Paper Scissor Game"
      ]
    },
    {
      "cell_type": "code",
      "execution_count": null,
      "metadata": {},
      "outputs": [],
      "source": [
        "from random import randint\n",
        "choices=[\"Rock\",\"Paper\",\"Scissor\"]\n",
        "print(\"Choices: Rock, Paper, Scissor\")\n",
        "compScore=0\n",
        "userScore=0\n",
        "while(1):\n",
        "    userChoice=input(\"Enter your choice: \").lower()\n",
        "    compChoice=choices[randint(0,2)].lower()\n",
        "\n",
        "    if compChoice==\"rock\":\n",
        "        if userChoice==\"paper\":\n",
        "            print(\"Computer choice:\",compChoice,\"\\nYou Won\")\n",
        "            userScore+=1\n",
        "        elif userChoice==\"scissor\":\n",
        "            print(\"Computer choice:\",compChoice,\"\\nYou Loose\")\n",
        "            compScore+=1\n",
        "        else:\n",
        "            print(\"Computer choice:\",compChoice,\"\\nIts a Tie\")\n",
        "    elif compChoice==\"paper\":\n",
        "        if userChoice==\"scissor\":\n",
        "            print(\"Computer choice:\",compChoice,\"\\nYou Won\")\n",
        "            userScore+=1\n",
        "        elif userChoice==\"rock\":\n",
        "            print(\"Computer choice:\",compChoice,\"\\nYou Loose\")\n",
        "            compScore==1\n",
        "        else:\n",
        "            print(\"Computer choice:\",compChoice,\"\\nIts a Tie\")\n",
        "    elif compChoice==\"scissor\":\n",
        "        if userChoice==\"rock\":\n",
        "            print(\"Computer choice:\",compChoice,\"\\nYou Won\")\n",
        "            userScore+=1\n",
        "        elif userChoice==\"paper\":\n",
        "            print(\"Computer choice:\",compChoice,\"\\nYou Loose\")\n",
        "            compScore+=1\n",
        "        else:\n",
        "            print(\"Computer choice:\",compChoice,\"\\nIts a Tie\")\n",
        "    \n",
        "    cont=input(\"Do you want to continue(Yes/No) \")\n",
        "    if cont.lower()==\"no\":\n",
        "        print(\"Your Score: \",userScore,\"\\ncComputer score: \",compScore)\n",
        "        if userScore>compScore:\n",
        "          print(\"YOU WON FINALE!!!\")\n",
        "        else:\n",
        "          print(\"BETTER LUCK NEXT TIME!!!\")\n",
        "        print(\"THANKS FOR PLAYING WITH US...\")\n",
        "        break"
      ]
    },
    {
      "cell_type": "markdown",
      "metadata": {},
      "source": [
        "palindrome check"
      ]
    },
    {
      "cell_type": "code",
      "execution_count": null,
      "metadata": {},
      "outputs": [],
      "source": [
        "string=input(\"Enter a String: \")\n",
        "i=0\n",
        "j=len(string)-1\n",
        "palindrome=1\n",
        "while(i<(len(string)/2)+1):\n",
        "    if(string[i]!=string[j]):\n",
        "        palindrome=0\n",
        "    i+=1\n",
        "    j-=1\n",
        "if palindrome:\n",
        "    print(\"String is palindrome\")\n",
        "else:\n",
        "    print(\"String is not palindrome\")"
      ]
    }
  ],
  "metadata": {
    "colab": {
      "authorship_tag": "ABX9TyPPldkWdI/Fcarg/ZWoaj0c",
      "include_colab_link": true,
      "provenance": []
    },
    "kernelspec": {
      "display_name": "Python 3",
      "name": "python3"
    },
    "language_info": {
      "name": "python",
      "version": "3.10.9"
    }
  },
  "nbformat": 4,
  "nbformat_minor": 0
}
