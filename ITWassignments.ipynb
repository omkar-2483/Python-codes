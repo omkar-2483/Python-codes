{
  "cells": [
    {
      "cell_type": "markdown",
      "metadata": {
        "colab_type": "text",
        "id": "view-in-github"
      },
      "source": [
        "<a href=\"https://colab.research.google.com/github/omkar-2483/Python-codes/blob/main/ITWassignments.ipynb\" target=\"_parent\"><img src=\"https://colab.research.google.com/assets/colab-badge.svg\" alt=\"Open In Colab\"/></a>"
      ]
    },
    {
      "cell_type": "code",
      "execution_count": null,
      "metadata": {
        "id": "GoJ0Q6o87iYn"
      },
      "outputs": [
        {
          "ename": "",
          "evalue": "",
          "output_type": "error",
          "traceback": [
            "\u001b[1;31mRunning cells with 'c:\\Users\\Shubham\\AppData\\Local\\Programs\\Python\\Python310\\python.exe' requires the ipykernel package.\n",
            "\u001b[1;31mRun the following command to install 'ipykernel' into the Python environment. \n",
            "\u001b[1;31mCommand: 'c:/Users/Shubham/AppData/Local/Programs/Python/Python310/python.exe -m pip install ipykernel -U --user --force-reinstall'"
          ]
        }
      ],
      "source": [
        "import numpy as np\n",
        "n=int(input(\"Enter number of inputs:\"))\n",
        "nums=np.zeros(n)\n",
        "for i in range(n):\n",
        "    nums[i]=int(input(\"Enter a number: \"))\n",
        "sum1=np.zeros(n)\n",
        "sum2=np.zeros(n)\n",
        "\n",
        "i=0\n",
        "j=n-1\n",
        "\n",
        "for k in range(n):\n",
        "    sum1[k]=nums[i]+nums[j]\n",
        "    i+=1\n",
        "    j-=1\n",
        "\n",
        "k=0\n",
        "i=n-1\n",
        "j=0\n",
        "while(k<n):\n",
        "    sum2[k]=nums[i]+nums[j]\n",
        "    j+=1\n",
        "    i-=1\n",
        "    k+=1\n",
        "\n",
        "print('array of summation using for loop',sum1)\n",
        "print('array of summation using while loop',sum2)"
      ]
    }
  ],
  "metadata": {
    "colab": {
      "authorship_tag": "ABX9TyPPldkWdI/Fcarg/ZWoaj0c",
      "include_colab_link": true,
      "provenance": []
    },
    "kernelspec": {
      "display_name": "Python 3",
      "name": "python3"
    },
    "language_info": {
      "name": "python",
      "version": "3.10.9"
    }
  },
  "nbformat": 4,
  "nbformat_minor": 0
}
